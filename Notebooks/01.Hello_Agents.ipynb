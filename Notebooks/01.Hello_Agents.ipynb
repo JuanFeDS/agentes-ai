{
 "cells": [
  {
   "cell_type": "markdown",
   "metadata": {
    "cellUniqueIdByVincent": "e19a8"
   },
   "source": [
    "# **Introducción a los Agentes AI**"
   ]
  },
  {
   "cell_type": "markdown",
   "metadata": {
    "cellUniqueIdByVincent": "69e2d"
   },
   "source": [
    "### **Librerías**"
   ]
  },
  {
   "cell_type": "code",
   "execution_count": 1,
   "metadata": {
    "cellUniqueIdByVincent": "ad203"
   },
   "outputs": [],
   "source": [
    "import os\n",
    "from dotenv import load_dotenv"
   ]
  },
  {
   "cell_type": "code",
   "execution_count": 2,
   "metadata": {
    "cellUniqueIdByVincent": "28e26"
   },
   "outputs": [],
   "source": [
    "import warnings\n",
    "warnings.filterwarnings('ignore')"
   ]
  },
  {
   "cell_type": "code",
   "execution_count": 3,
   "metadata": {
    "cellUniqueIdByVincent": "c7789"
   },
   "outputs": [],
   "source": [
    "from langchain_huggingface.llms import HuggingFacePipeline\n",
    "from langchain_openai import ChatOpenAI\n",
    "from langchain_google_genai import GoogleGenerativeAI"
   ]
  },
  {
   "cell_type": "code",
   "execution_count": 78,
   "metadata": {
    "cellUniqueIdByVincent": "bd935"
   },
   "outputs": [],
   "source": [
    "from langchain_core.messages import AIMessage, HumanMessage, SystemMessage, trim_messages\n",
    "from langchain_core.prompts import PromptTemplate, ChatPromptTemplate, MessagesPlaceholder"
   ]
  },
  {
   "cell_type": "markdown",
   "metadata": {
    "cellUniqueIdByVincent": "08858"
   },
   "source": [
    "### **Variables globales**"
   ]
  },
  {
   "cell_type": "code",
   "execution_count": 11,
   "metadata": {
    "cellUniqueIdByVincent": "f20eb"
   },
   "outputs": [
    {
     "data": {
      "text/plain": [
       "True"
      ]
     },
     "execution_count": 11,
     "metadata": {},
     "output_type": "execute_result"
    }
   ],
   "source": [
    "load_dotenv()"
   ]
  },
  {
   "cell_type": "code",
   "execution_count": 12,
   "metadata": {
    "cellUniqueIdByVincent": "62946"
   },
   "outputs": [],
   "source": [
    "google_api_key = os.getenv('GOOGLE_API_KEY')\n",
    "openai_api_key = os.getenv('OPENAI_API_KEY')"
   ]
  },
  {
   "cell_type": "markdown",
   "metadata": {
    "cellUniqueIdByVincent": "81a02"
   },
   "source": [
    "### **Construcción del Agente**"
   ]
  },
  {
   "cell_type": "code",
   "execution_count": 14,
   "metadata": {
    "cellUniqueIdByVincent": "6a877"
   },
   "outputs": [
    {
     "name": "stderr",
     "output_type": "stream",
     "text": [
      "Device set to use cpu\n"
     ]
    }
   ],
   "source": [
    "hf = HuggingFacePipeline.from_model_id(\n",
    "    model_id = 'gpt2',\n",
    "    task = 'text-generation',\n",
    "    pipeline_kwargs = {\n",
    "        'max_new_tokens': 30\n",
    "    }\n",
    ")"
   ]
  },
  {
   "cell_type": "code",
   "execution_count": 17,
   "metadata": {
    "cellUniqueIdByVincent": "4f40f"
   },
   "outputs": [],
   "source": [
    "question = 'Qué es el universo?'"
   ]
  },
  {
   "cell_type": "code",
   "execution_count": 18,
   "metadata": {
    "cellUniqueIdByVincent": "0a8bf"
   },
   "outputs": [
    {
     "data": {
      "text/plain": [
       "\"Qué es el universo?\\n\\nI don't.\\n\\n[Pause.]\\n\\n[Sleeping sound.]\\n\\nMigliano:\\n\\nD'\""
      ]
     },
     "execution_count": 18,
     "metadata": {},
     "output_type": "execute_result"
    }
   ],
   "source": [
    "hf.invoke(question)"
   ]
  },
  {
   "cell_type": "markdown",
   "metadata": {
    "cellUniqueIdByVincent": "fba4f"
   },
   "source": [
    "### **Construcción del Agente con OpenAI**"
   ]
  },
  {
   "cell_type": "code",
   "execution_count": 25,
   "metadata": {
    "cellUniqueIdByVincent": "2fd9d"
   },
   "outputs": [],
   "source": [
    "messages = [\n",
    "    SystemMessage(\n",
    "        content='Eres un aistente útil.'\n",
    "    ),\n",
    "\n",
    "    HumanMessage(\n",
    "        content='Me ayudas a organizar las tareas del día?'\n",
    "    ),\n",
    "\n",
    "    AIMessage(\n",
    "        content='Claro! Qué tareas necesitas completar hoy?'\n",
    "    ),\n",
    "\n",
    "    HumanMessage(\n",
    "        content='Tengo que enviar un correo importante, hacer ejercicio y estudiar para un exámen.'\n",
    "    ),\n",
    "\n",
    "    AIMessage(\n",
    "        content='Aquí tienes tu lista de tareas: 1. Enviar correo. 2. Hacer ejercicio. 3. Estudiar para el exámen'\n",
    "    )\n",
    "]"
   ]
  },
  {
   "cell_type": "code",
   "execution_count": 26,
   "metadata": {
    "cellUniqueIdByVincent": "20dfe"
   },
   "outputs": [
    {
     "data": {
      "text/plain": [
       "[SystemMessage(content='Eres un aistente útil.', additional_kwargs={}, response_metadata={}),\n",
       " HumanMessage(content='Me ayudas a organizar las tareas del día?', additional_kwargs={}, response_metadata={}),\n",
       " AIMessage(content='Claro! Qué tareas necesitas completar hoy?', additional_kwargs={}, response_metadata={}),\n",
       " HumanMessage(content='Tengo que enviar un correo importante, hacer ejercicio y estudiar para un exámen.', additional_kwargs={}, response_metadata={}),\n",
       " AIMessage(content='Aquí tienes tu lista de tareas: 1. Enviar correo. 2. Hacer ejercicio. 3. Estudiar para el exámen', additional_kwargs={}, response_metadata={})]"
      ]
     },
     "execution_count": 26,
     "metadata": {},
     "output_type": "execute_result"
    }
   ],
   "source": [
    "messages"
   ]
  },
  {
   "cell_type": "code",
   "execution_count": 27,
   "metadata": {
    "cellUniqueIdByVincent": "91a9c"
   },
   "outputs": [],
   "source": [
    "model = ChatOpenAI(model='gpt-4o')"
   ]
  },
  {
   "cell_type": "code",
   "execution_count": 33,
   "metadata": {
    "cellUniqueIdByVincent": "7bf83"
   },
   "outputs": [],
   "source": [
    "response = model.invoke(messages)"
   ]
  },
  {
   "cell_type": "code",
   "execution_count": 30,
   "metadata": {
    "cellUniqueIdByVincent": "2414a"
   },
   "outputs": [
    {
     "data": {
      "text/plain": [
       "AIMessage(content='Aquí tienes un plan para organizar tu día de manera eficiente:\\n\\n1. **Enviar correo importante:**\\n   - Prioriza esta tarea ya que es fundamental. \\n   - Establece un bloque de tiempo de 15 a 30 minutos para redactar y revisar el correo antes de enviarlo.\\n\\n2. **Hacer ejercicio:**\\n   - Dedica entre 30 minutos a una hora para hacer ejercicio, dependiendo de tu rutina.\\n   - Puedes programarlo por la mañana para activar tu cuerpo o por la tarde como un respiro después de estudiar.\\n\\n3. **Estudiar para el examen:**\\n   - Evalúa cuánto tiempo necesitas para estudiar y divide ese tiempo en bloques manejables (por ejemplo, sesiones de 25-50 minutos con descansos cortos de 5-10 minutos).\\n   - Identifica los temas que necesitas repasar y establece un horario específico para abordarlos.\\n\\nRecuerda ajustar estos tiempos según tus necesidades personales y añadir descansos para mantenerte fresco y enfocado. ¿Hay algo más en lo que pueda ayudarte?', additional_kwargs={'refusal': None}, response_metadata={'token_usage': {'completion_tokens': 214, 'prompt_tokens': 96, 'total_tokens': 310, 'completion_tokens_details': {'accepted_prediction_tokens': 0, 'audio_tokens': 0, 'reasoning_tokens': 0, 'rejected_prediction_tokens': 0}, 'prompt_tokens_details': {'audio_tokens': 0, 'cached_tokens': 0}}, 'model_name': 'gpt-4o-2024-08-06', 'system_fingerprint': 'fp_f9f4fb6dbf', 'finish_reason': 'stop', 'logprobs': None}, id='run-d71da8bd-0363-4b2b-bd55-aaea8fede862-0', usage_metadata={'input_tokens': 96, 'output_tokens': 214, 'total_tokens': 310, 'input_token_details': {'audio': 0, 'cache_read': 0}, 'output_token_details': {'audio': 0, 'reasoning': 0}})"
      ]
     },
     "execution_count": 30,
     "metadata": {},
     "output_type": "execute_result"
    }
   ],
   "source": [
    "response"
   ]
  },
  {
   "cell_type": "code",
   "execution_count": 34,
   "metadata": {
    "cellUniqueIdByVincent": "98cd7"
   },
   "outputs": [
    {
     "name": "stdout",
     "output_type": "stream",
     "text": [
      "Aquí tienes una posible forma de organizar tu día:\n",
      "\n",
      "1. **Enviar el correo importante**: Podrías comenzar tu día con esta tarea para asegurarte de que lo urgente se gestiona primero. Destina un bloque de tiempo específico, por ejemplo, de 9:00 a 9:30 am, para concentrarte en redactar y enviar el correo.\n",
      "\n",
      "2. **Hacer ejercicio**: Programar tu sesión de ejercicio a media mañana o al mediodía puede ser una buena manera de recargar energías. Destina de 30 a 60 minutos, dependiendo de tu rutina, por ejemplo, de 11:00 am a 12:00 pm.\n",
      "\n",
      "3. **Estudiar para el examen**: Dedica un bloque de tiempo significativo para estudiar. Podrías dividir el estudio en dos sesiones para mantener la concentración, por ejemplo, una sesión de 2:00 a 4:00 pm y otra de 5:00 a 7:00 pm, tomando descansos cortos de 5-10 minutos cada hora para descansar la mente.\n",
      "\n",
      "No olvides incluir pausas para comer y descansar adecuadamente entre las tareas. Además, si te resulta útil, puedes ajustar los horarios según tus preferencias personales y los momentos en los que te sientas más productivo.\n"
     ]
    }
   ],
   "source": [
    "print(response.content)"
   ]
  },
  {
   "cell_type": "code",
   "execution_count": null,
   "metadata": {
    "cellUniqueIdByVincent": "3182d"
   },
   "outputs": [],
   "source": [
    "trim_message = trim_messages(\n",
    "    messages,\n",
    "    max_tokens=100,\n",
    "    strategy='last',\n",
    "    token_counter=ChatOpenAI(model='gpt-4o'),\n",
    "    include_system=True\n",
    ")"
   ]
  },
  {
   "cell_type": "code",
   "execution_count": 47,
   "metadata": {
    "cellUniqueIdByVincent": "877af"
   },
   "outputs": [
    {
     "data": {
      "text/plain": [
       "[SystemMessage(content='Eres un aistente útil.', additional_kwargs={}, response_metadata={}),\n",
       " AIMessage(content='Aquí tienes tu lista de tareas: 1. Enviar correo. 2. Hacer ejercicio. 3. Estudiar para el exámen', additional_kwargs={}, response_metadata={})]"
      ]
     },
     "execution_count": 47,
     "metadata": {},
     "output_type": "execute_result"
    }
   ],
   "source": [
    "trim_message"
   ]
  },
  {
   "cell_type": "markdown",
   "metadata": {
    "cellUniqueIdByVincent": "57133"
   },
   "source": [
    "### **Modelos de Chat**"
   ]
  },
  {
   "cell_type": "code",
   "execution_count": null,
   "metadata": {
    "cellUniqueIdByVincent": "6c83a"
   },
   "outputs": [],
   "source": [
    "llm = ChatOpenAI(\n",
    "    model = 'gpt-4o-mini',\n",
    "    temperature = 0\n",
    ")"
   ]
  },
  {
   "cell_type": "code",
   "execution_count": 55,
   "metadata": {
    "cellUniqueIdByVincent": "3a613"
   },
   "outputs": [],
   "source": [
    "message = [\n",
    "    ('system','Eres un profesor de programación en Python. Enseña a programar.'),\n",
    "    ('human','Quiero instalar Python en Windows')\n",
    "]"
   ]
  },
  {
   "cell_type": "code",
   "execution_count": 56,
   "metadata": {
    "cellUniqueIdByVincent": "bb3ec"
   },
   "outputs": [
    {
     "data": {
      "text/plain": [
       "[('system', 'Eres un profesor de programación en Python. Enseña a programar.'),\n",
       " ('human', 'Quiero instalar Python en Windows')]"
      ]
     },
     "execution_count": 56,
     "metadata": {},
     "output_type": "execute_result"
    }
   ],
   "source": [
    "message"
   ]
  },
  {
   "cell_type": "code",
   "execution_count": 57,
   "metadata": {
    "cellUniqueIdByVincent": "e08f0"
   },
   "outputs": [],
   "source": [
    "respuesta = llm.invoke(message)"
   ]
  },
  {
   "cell_type": "code",
   "execution_count": 61,
   "metadata": {
    "cellUniqueIdByVincent": "33102"
   },
   "outputs": [
    {
     "data": {
      "text/plain": [
       "AIMessage(content='¡Claro! Instalar Python en Windows es un proceso sencillo. Aquí tienes una guía paso a paso para hacerlo:\\n\\n1. **Descargar el instalador de Python:**\\n   - Ve al sitio web oficial de Python: [python.org](https://www.python.org/).\\n   - Haz clic en \"Downloads\" en la barra de navegación superior.\\n   - El sitio web debería detectar automáticamente tu sistema operativo y mostrarte un botón para descargar la última versión de Python para Windows. Haz clic en ese botón para descargar el instalador.\\n\\n2. **Ejecutar el instalador:**\\n   - Una vez que se haya descargado el archivo, haz doble clic en él para ejecutarlo.\\n   - En la ventana del instalador, asegúrate de marcar la casilla que dice \"Add Python to PATH\". Esto es importante para que puedas ejecutar Python desde la línea de comandos.\\n   - Haz clic en \"Install Now\" para comenzar la instalación.\\n\\n3. **Verificar la instalación:**\\n   - Una vez que la instalación haya finalizado, abre la \"Command Prompt\" (puedes buscar \"cmd\" en el menú de inicio).\\n   - Escribe `python --version` y presiona Enter. Deberías ver la versión de Python que acabas de instalar.\\n   - También puedes verificar `pip`, el gestor de paquetes de Python, escribiendo `pip --version`.\\n\\n4. **Configurar el entorno de desarrollo (opcional):**\\n   - Aunque puedes escribir y ejecutar scripts de Python directamente desde un editor de texto y la línea de comandos, es recomendable usar un entorno de desarrollo integrado (IDE) para facilitar el proceso.\\n   - Algunas opciones populares son PyCharm, Visual Studio Code, y Thonny. Puedes descargar e instalar cualquiera de estos IDEs para mejorar tu experiencia de programación.\\n\\n¡Y eso es todo! Ahora tienes Python instalado en tu sistema Windows y estás listo para comenzar a programar. Si tienes más preguntas o necesitas ayuda con algo específico, no dudes en preguntar.', additional_kwargs={'refusal': None}, response_metadata={'token_usage': {'completion_tokens': 408, 'prompt_tokens': 32, 'total_tokens': 440, 'completion_tokens_details': {'accepted_prediction_tokens': 0, 'audio_tokens': 0, 'reasoning_tokens': 0, 'rejected_prediction_tokens': 0}, 'prompt_tokens_details': {'audio_tokens': 0, 'cached_tokens': 0}}, 'model_name': 'gpt-4o-2024-08-06', 'system_fingerprint': 'fp_eb9dce56a8', 'finish_reason': 'stop', 'logprobs': None}, id='run-00ced840-58e7-48d7-b307-4291f524680f-0', usage_metadata={'input_tokens': 32, 'output_tokens': 408, 'total_tokens': 440, 'input_token_details': {'audio': 0, 'cache_read': 0}, 'output_token_details': {'audio': 0, 'reasoning': 0}})"
      ]
     },
     "execution_count": 61,
     "metadata": {},
     "output_type": "execute_result"
    }
   ],
   "source": [
    "respuesta"
   ]
  },
  {
   "cell_type": "code",
   "execution_count": null,
   "metadata": {
    "cellUniqueIdByVincent": "ef099"
   },
   "outputs": [
    {
     "name": "stdout",
     "output_type": "stream",
     "text": [
      "¡Claro! Instalar Python en Windows es un proceso sencillo. Aquí tienes una guía paso a paso para hacerlo:\n",
      "\n",
      "1. **Descargar el instalador de Python:**\n",
      "   - Ve al sitio web oficial de Python: [python.org](https://www.python.org/).\n",
      "   - Haz clic en \"Downloads\" en la barra de navegación superior.\n",
      "   - El sitio web debería detectar automáticamente tu sistema operativo y mostrarte un botón para descargar la última versión de Python para Windows. Haz clic en ese botón para descargar el instalador.\n",
      "\n",
      "2. **Ejecutar el instalador:**\n",
      "   - Una vez que se haya descargado el archivo, haz doble clic en él para ejecutarlo.\n",
      "   - En la ventana del instalador, asegúrate de marcar la casilla que dice \"Add Python to PATH\". Esto es importante para que puedas ejecutar Python desde la línea de comandos.\n",
      "   - Haz clic en \"Install Now\" para comenzar la instalación.\n",
      "\n",
      "3. **Verificar la instalación:**\n",
      "   - Una vez que la instalación haya finalizado, abre la \"Command Prompt\" (puedes buscar \"cmd\" en el menú de inicio).\n",
      "   - Escribe `python --version` y presiona Enter. Deberías ver la versión de Python que acabas de instalar.\n",
      "   - También puedes verificar `pip`, el gestor de paquetes de Python, escribiendo `pip --version`.\n",
      "\n",
      "4. **Configurar el entorno de desarrollo (opcional):**\n",
      "   - Aunque puedes escribir y ejecutar scripts de Python directamente desde un editor de texto y la línea de comandos, es recomendable usar un entorno de desarrollo integrado (IDE) para facilitar el proceso.\n",
      "   - Algunas opciones populares son PyCharm, Visual Studio Code, y Thonny. Puedes descargar e instalar cualquiera de estos IDEs para mejorar tu experiencia de programación.\n",
      "\n",
      "¡Y eso es todo! Ahora tienes Python instalado en tu sistema Windows y estás listo para comenzar a programar. Si tienes más preguntas o necesitas ayuda con algo específico, no dudes en preguntar.\n"
     ]
    }
   ],
   "source": [
    "print(respuesta.content)"
   ]
  },
  {
   "cell_type": "markdown",
   "metadata": {
    "cellUniqueIdByVincent": "60ff6"
   },
   "source": [
    "### **Prompt Templates**"
   ]
  },
  {
   "cell_type": "code",
   "execution_count": 64,
   "metadata": {
    "cellUniqueIdByVincent": "2471d"
   },
   "outputs": [],
   "source": [
    "model = ChatOpenAI(\n",
    "    model = 'gpt-4o-mini'\n",
    ")"
   ]
  },
  {
   "cell_type": "code",
   "execution_count": 66,
   "metadata": {
    "cellUniqueIdByVincent": "8191e"
   },
   "outputs": [],
   "source": [
    "prompt_template = PromptTemplate.from_template(\n",
    "    'Dime un chiste {topic}'\n",
    ")"
   ]
  },
  {
   "cell_type": "code",
   "execution_count": 68,
   "metadata": {
    "cellUniqueIdByVincent": "d58b9"
   },
   "outputs": [],
   "source": [
    "categories = {\n",
    "    'topic': 'Oceano'\n",
    "}"
   ]
  },
  {
   "cell_type": "code",
   "execution_count": 71,
   "metadata": {
    "cellUniqueIdByVincent": "0fa91"
   },
   "outputs": [],
   "source": [
    "template = prompt_template.invoke(categories)"
   ]
  },
  {
   "cell_type": "code",
   "execution_count": 72,
   "metadata": {
    "cellUniqueIdByVincent": "eb9be"
   },
   "outputs": [
    {
     "data": {
      "text/plain": [
       "StringPromptValue(text='Dime un chiste Oceano')"
      ]
     },
     "execution_count": 72,
     "metadata": {},
     "output_type": "execute_result"
    }
   ],
   "source": [
    "template"
   ]
  },
  {
   "cell_type": "markdown",
   "metadata": {
    "cellUniqueIdByVincent": "e6170"
   },
   "source": [
    "### **Chat Prompt Templates**"
   ]
  },
  {
   "cell_type": "code",
   "execution_count": 74,
   "metadata": {
    "cellUniqueIdByVincent": "3a4d9"
   },
   "outputs": [],
   "source": [
    "prompt_template = ChatPromptTemplate.from_messages([\n",
    "    ('system', 'Eres un asistente útil'),\n",
    "    ('user', 'Dime un chiste {topic}')\n",
    "])"
   ]
  },
  {
   "cell_type": "code",
   "execution_count": 76,
   "metadata": {
    "cellUniqueIdByVincent": "f2ea2"
   },
   "outputs": [],
   "source": [
    "template = prompt_template.invoke(categories)"
   ]
  },
  {
   "cell_type": "code",
   "execution_count": 77,
   "metadata": {
    "cellUniqueIdByVincent": "b04b3"
   },
   "outputs": [
    {
     "data": {
      "text/plain": [
       "ChatPromptValue(messages=[SystemMessage(content='Eres un asistente útil', additional_kwargs={}, response_metadata={}), HumanMessage(content='Dime un chiste Oceano', additional_kwargs={}, response_metadata={})])"
      ]
     },
     "execution_count": 77,
     "metadata": {},
     "output_type": "execute_result"
    }
   ],
   "source": [
    "template"
   ]
  },
  {
   "cell_type": "markdown",
   "metadata": {
    "cellUniqueIdByVincent": "f5a3e"
   },
   "source": [
    "### **Messages Templates**"
   ]
  },
  {
   "cell_type": "code",
   "execution_count": 79,
   "metadata": {
    "cellUniqueIdByVincent": "74176"
   },
   "outputs": [],
   "source": [
    "prompt_template = ChatPromptTemplate.from_messages([\n",
    "    ('system', 'Eres un asistente útil'),\n",
    "    MessagesPlaceholder('msgs')  \n",
    "])\n",
    "\n",
    "template = prompt_template.invoke({\n",
    "    'msgs': [\n",
    "        HumanMessage(content='Hola'),\n",
    "        HumanMessage(content='Adios')\n",
    "    ]\n",
    "})"
   ]
  },
  {
   "cell_type": "code",
   "execution_count": 82,
   "metadata": {
    "cellUniqueIdByVincent": "5cc4c"
   },
   "outputs": [
    {
     "data": {
      "text/plain": [
       "ChatPromptValue(messages=[SystemMessage(content='Eres un asistente útil', additional_kwargs={}, response_metadata={}), HumanMessage(content='Hola', additional_kwargs={}, response_metadata={}), HumanMessage(content='Adios', additional_kwargs={}, response_metadata={})])"
      ]
     },
     "execution_count": 82,
     "metadata": {},
     "output_type": "execute_result"
    }
   ],
   "source": [
    "template"
   ]
  },
  {
   "cell_type": "code",
   "execution_count": null,
   "metadata": {
    "cellUniqueIdByVincent": "80056"
   },
   "outputs": [],
   "source": []
  }
 ],
 "metadata": {
  "kernelspec": {
   "display_name": "venv",
   "language": "python",
   "name": "python3"
  },
  "language_info": {
   "name": "python",
   "version": "3.12.2"
  },
  "vincent": {
   "sessionId": "5249bf21e6d15a972b6765df_2025-07-10T02-42-22-141Z"
  }
 },
 "nbformat": 4,
 "nbformat_minor": 2
}

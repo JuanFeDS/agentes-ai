{
 "cells": [
  {
   "cell_type": "markdown",
   "id": "03d3d0e7",
   "metadata": {
    "cellUniqueIdByVincent": "cf06f"
   },
   "source": [
    "# **Agents Toolkit**"
   ]
  },
  {
   "cell_type": "markdown",
   "id": "87613db4",
   "metadata": {
    "cellUniqueIdByVincent": "946b5"
   },
   "source": [
    "## **Librerías**"
   ]
  },
  {
   "cell_type": "code",
   "execution_count": 1,
   "metadata": {
    "cellUniqueIdByVincent": "6eabf"
   },
   "outputs": [],
   "source": [
    "import sys\n",
    "sys.path.append(\"../\")"
   ]
  },
  {
   "cell_type": "code",
   "execution_count": 2,
   "metadata": {
    "cellUniqueIdByVincent": "e8d10"
   },
   "outputs": [],
   "source": [
    "from scripts.basic_gen_text import basic_gen_text\n",
    "from scripts.basic_openai_text import basic_openai\n",
    "from scripts.basic_langchain_text import basic_langchain_text"
   ]
  },
  {
   "cell_type": "code",
   "execution_count": 3,
   "id": "e47eda0c",
   "metadata": {},
   "outputs": [],
   "source": [
    "from scripts.chat_roles import chat_roles\n",
    "from scripts.chat_roles_langchain import chat_roles_langchain"
   ]
  },
  {
   "cell_type": "code",
   "execution_count": 4,
   "id": "bd5d6016",
   "metadata": {},
   "outputs": [],
   "source": [
    "from scripts.trim_messages import trim_messages_langchain\n",
    "\n",
    "from scripts.prompt_template import prompt_template\n",
    "from scripts.chat_prompt_template import chat_prompt_template\n",
    "from scripts.few_shot_prompting import few_shot_prompt"
   ]
  },
  {
   "cell_type": "code",
   "execution_count": null,
   "id": "c606da65",
   "metadata": {},
   "outputs": [],
   "source": [
    "from scripts.chat_history_dummie import message_history\n",
    "from scripts.streaming_chat import streaming_chat"
   ]
  },
  {
   "cell_type": "code",
   "execution_count": 10,
   "id": "f8336be0",
   "metadata": {},
   "outputs": [],
   "source": [
    "from scripts.string_output_parser import st_out_parser\n",
    "from scripts.runnable_lambda import runnable_lambda\n",
    "from scripts.json_output_parser import json_parser"
   ]
  },
  {
   "cell_type": "code",
   "execution_count": 7,
   "metadata": {
    "cellUniqueIdByVincent": "0f26d"
   },
   "outputs": [],
   "source": [
    "from warnings import filterwarnings\n",
    "filterwarnings(\"ignore\")"
   ]
  },
  {
   "cell_type": "markdown",
   "id": "827c9c2c",
   "metadata": {
    "cellUniqueIdByVincent": "978e8"
   },
   "source": [
    "## **Agentes AI**"
   ]
  },
  {
   "cell_type": "markdown",
   "id": "ab3ac3ff",
   "metadata": {
    "cellUniqueIdByVincent": "27d53"
   },
   "source": [
    "Un agente AI es una entidad que mediante el uso de un **modelo llm** como base, puede razonar, tomar decisiones e interactuar con su entorno para cumplir una objetivo especifico."
   ]
  },
  {
   "cell_type": "markdown",
   "id": "d218461c",
   "metadata": {
    "cellUniqueIdByVincent": "605fc"
   },
   "source": [
    "Para construir un agente AI basado en LLMs debemos entender como llamarlos y como utilizarlos de una manera óptima y eficiente dependiendo de la necesidad que tengamos."
   ]
  },
  {
   "cell_type": "markdown",
   "id": "09b5a8c3",
   "metadata": {
    "cellUniqueIdByVincent": "64d3d"
   },
   "source": [
    "### **Generar texto sencillo**"
   ]
  },
  {
   "cell_type": "markdown",
   "id": "af51f2fc",
   "metadata": {
    "cellUniqueIdByVincent": "71772"
   },
   "source": [
    "Podemos llamar modelos gratuitos desde plataformas como **HuggingFace**, sin embargo, la respuesta del modelo no es tan prometedora."
   ]
  },
  {
   "cell_type": "code",
   "execution_count": 6,
   "metadata": {
    "cellUniqueIdByVincent": "6db72"
   },
   "outputs": [
    {
     "name": "stderr",
     "output_type": "stream",
     "text": [
      "Device set to use cpu\n"
     ]
    },
    {
     "data": {
      "text/plain": [
       "'colombia'"
      ]
     },
     "execution_count": 6,
     "metadata": {},
     "output_type": "execute_result"
    }
   ],
   "source": [
    "# Call a model from hugginface model id\n",
    "basic_gen_text(\n",
    "    model_id=\"google/flan-t5-base\",\n",
    "    task=\"text2text-generation\",\n",
    "    prompt=\"Cuál es la capital de Colombia?\",\n",
    "    max_tokens=50\n",
    ")"
   ]
  },
  {
   "cell_type": "markdown",
   "metadata": {
    "cellUniqueIdByVincent": "b2684"
   },
   "source": [
    "Si queremos utilizar algo más robusto como los modelos actuales de openai, debemos crear una cuenta con ellos y cargar algo de saldo para poder utilizar su API, al hacer esto obtenemos respuestas mucho más interesantes."
   ]
  },
  {
   "cell_type": "code",
   "execution_count": 7,
   "metadata": {
    "cellUniqueIdByVincent": "61e2b"
   },
   "outputs": [
    {
     "data": {
      "text/plain": [
       "'La capital de Colombia es Bogotá.'"
      ]
     },
     "execution_count": 7,
     "metadata": {},
     "output_type": "execute_result"
    }
   ],
   "source": [
    "basic_openai(\n",
    "    model=\"gpt-3.5-turbo\",\n",
    "    prompt=\"Cuál es la capital de Colombia?\",\n",
    "    max_tokens=50\n",
    ")"
   ]
  },
  {
   "cell_type": "markdown",
   "id": "3b21052b",
   "metadata": {},
   "source": [
    "Incluso, con el uso de estos modelos podemos ir mucho más lejos."
   ]
  },
  {
   "cell_type": "code",
   "execution_count": 10,
   "id": "f4fb23bb",
   "metadata": {},
   "outputs": [
    {
     "data": {
      "text/plain": [
       "'Es difícil elegir un solo evento histórico como el más importante del siglo XXI en Colombia, ya que ha habido varios acontecimientos significativos que han impactado profundamente en el país. Algunos de los eventos más destacados podrían ser la firma del acuerdo de paz entre el gobierno colombiano y las FARC en 2016, el referéndum sobre el acuerdo de paz en el mismo año, la elección de Iván Duque como presidente en 2018, y la crisis migratoria y humanitaria en la frontera con Venezuela. Cada uno de estos eventos ha tenido un impacto significativo en la historia reciente de Colombia y ha marcado un antes y un después en la vida política y social del país.'"
      ]
     },
     "execution_count": 10,
     "metadata": {},
     "output_type": "execute_result"
    }
   ],
   "source": [
    "basic_openai(\n",
    "    model=\"gpt-3.5-turbo\",\n",
    "    prompt=\"Cuál crees que es el evento histórico más importante del siglo XXI en Colombia?\",\n",
    "    max_tokens=200\n",
    ")"
   ]
  },
  {
   "cell_type": "markdown",
   "id": "89ba95ce",
   "metadata": {},
   "source": [
    "De igual forma, podemos realizar la conexión al modelo directamente desde **langchain**, una herramienta que nos permite interactuar con los **llms** de manera más sencilla."
   ]
  },
  {
   "cell_type": "code",
   "execution_count": 11,
   "id": "319f4147",
   "metadata": {},
   "outputs": [
    {
     "data": {
      "text/plain": [
       "'El universo es el conjunto total de espacio, tiempo, materia y energía que existe. Incluye todo lo que podemos observar y medir, así como lo que aún no hemos descubierto. El universo abarca galaxias, estrellas, planetas, materia oscura, energía oscura y cualquier otra forma de materia y energía existente. Se cree que se originó hace aproximadamente 13.8 mil millones de años con el evento conocido como el Big Bang, que marcó el comienzo de su expansión desde un estado extremadamente denso y caliente.\\n\\nEl universo está regido por las leyes de la física que conocemos, aunque todavía hay muchas incógnitas, especialmente relacionadas con la naturaleza de la materia oscura y la energía oscura, que constituyen la mayor parte de su contenido, y la estructura y destino último del universo. El estudio del universo, incluyendo su origen, evolución y destino, es el campo de la cosmología, una rama de la astronomía.'"
      ]
     },
     "execution_count": 11,
     "metadata": {},
     "output_type": "execute_result"
    }
   ],
   "source": [
    "basic_langchain_text(\n",
    "    user_prompt=\"Qué es el universo?\",\n",
    "    model=\"gpt-4o\"\n",
    ")"
   ]
  },
  {
   "cell_type": "markdown",
   "id": "90bda6e0",
   "metadata": {},
   "source": [
    "Con esto ya podemos utilizar un LLM dentro de nuestro flujo pero para integrarlo al agente y sacarle el máximo provecho hay varias configuraciones adicionales que podemos tener en cuenta."
   ]
  },
  {
   "cell_type": "markdown",
   "id": "6790e963",
   "metadata": {},
   "source": [
    "### **La definición de los roles**"
   ]
  },
  {
   "cell_type": "markdown",
   "id": "920ed45b",
   "metadata": {},
   "source": [
    "Cuando pensamos en la interacción que tendremos con nuestro agente, la vía más común es a través de un chat. Este mecanismo nos permite mantener un flujo de conversación y dar retroalimentación activa sobre el desempeño que esta teniendo el agente."
   ]
  },
  {
   "cell_type": "markdown",
   "id": "5bd21310",
   "metadata": {},
   "source": [
    "De igual forma, con este tipo de interacción podemos aprovechar para agregar algunas configuraciones adicionales para darle ciertas instrucciones al modelo y aportarle contexto sobre lo que se espera de el."
   ]
  },
  {
   "cell_type": "markdown",
   "id": "41c12bb5",
   "metadata": {},
   "source": [
    "En terminos generales hay 3 tipos de roles en este tipo de interacción:\n",
    "- **system:** Es el rol que define el contexto y las reglas del sistema.\n",
    "- **user:** Es el rol que define el usuario y sus acciones (Simulamos lo que podría decir el usuario).\n",
    "- **assistant:** Es el rol que define el asistente y sus acciones. (Simulamos lo que podría decir el asistente)."
   ]
  },
  {
   "cell_type": "code",
   "execution_count": 12,
   "id": "52de988d",
   "metadata": {},
   "outputs": [
    {
     "data": {
      "text/plain": [
       "'¡Por supuesto! Te recomiendo \"La voz de las espadas\" de Joe Abercrombie, el primer libro de la trilogía \"La Primera Ley\". Aunque Abercrombie ha ganado reconocimiento en los últimos años, esta serie a menudo queda eclipsada por otros gigantes del género. La novela combina una trama intrigante con personajes bien desarrollados y un toque de humor oscuro. Es ideal para lectores que disfrutan de la fantasía con un enfoque más realista y matizado.'"
      ]
     },
     "execution_count": 12,
     "metadata": {},
     "output_type": "execute_result"
    }
   ],
   "source": [
    "chat_roles(\n",
    "    model = \"gpt-4o\",\n",
    "    system_prompt = \"Eres un experto en libros de fantasía y ficción.\",\n",
    "    user_prompt = \"Hola, ¿me puedes recomendar un libro poco conocido?\"\n",
    ")"
   ]
  },
  {
   "cell_type": "markdown",
   "id": "ab03a4a6",
   "metadata": {},
   "source": [
    "Esta asignación de rol tambien puede usarse con **langchain**."
   ]
  },
  {
   "cell_type": "code",
   "execution_count": 13,
   "id": "0ac5e6e2",
   "metadata": {},
   "outputs": [
    {
     "data": {
      "text/plain": [
       "'¡Por supuesto! Te recomiendo \"La voz de las espadas\" de Joe Abercrombie. Aunque quizás no sea completamente desconocido, es una joya que a menudo pasa desapercibida en el género de la fantasía. Este libro es el primero de la trilogía \"La Primera Ley\" y se destaca por sus personajes complejos y una trama llena de giros inesperados, mezclando acción con toques de humor oscuro. Abercrombie tiene un estilo único que ofrece una visión más cínica y realista del típico mundo de fantasía. Si buscas una historia con personajes que desafían los arquetipos tradicionales, este libro podría ser justo lo que necesitas.'"
      ]
     },
     "execution_count": 13,
     "metadata": {},
     "output_type": "execute_result"
    }
   ],
   "source": [
    "chat_roles_langchain(\n",
    "    model=\"gpt-4o\",\n",
    "    system_prompt=\"Eres un experto en libros de fantasía y ficción.\",\n",
    "    user_prompt=\"Hola, ¿me puedes recomendar un libro poco conocido?\"\n",
    ")"
   ]
  },
  {
   "cell_type": "markdown",
   "id": "de86af44",
   "metadata": {},
   "source": [
    "### **Controlando el número de tokens**"
   ]
  },
  {
   "cell_type": "markdown",
   "id": "0a527951",
   "metadata": {},
   "source": [
    "De igual forma, es importante tener un control sobre el tamaño de los mensajes que estamos enviando a los modelos, por temas de costo y rendimientos. Existen varias estrategías para controlar esto."
   ]
  },
  {
   "cell_type": "code",
   "execution_count": 14,
   "id": "112c91bd",
   "metadata": {},
   "outputs": [
    {
     "data": {
      "text/plain": [
       "'¡Por supuesto! Un libro de fantasía poco conocido pero que vale la pena explorar es \"La ciudad y la ciudad\" de China Miéville. Aunque Miéville es un autor reconocido en el género de la fantasía y la ficción especulativa, este libro en particular tiende a pasar desapercibido entre sus otros trabajos más famosos como \"Perdido Street Station\".\\n\\n\"La ciudad y la ciudad\" es una novela única que mezcla fantasía, ciencia ficción y elementos de novela policial. La historia transcurre en dos ciudades que ocupan el mismo espacio físico, pero cuyos habitantes están obligados a \"no ver\" a los de la otra ciudad debido a la severidad de sus leyes. El entramado cultural y político se explora a través de la investigación de un asesinato, lo que ofrece una narrativa cautivadora y profundamente original. \\n\\nSi te gusta el misterio con un toque de realismo mágico, este libro podría ser una excelente opción para ti.'"
      ]
     },
     "execution_count": 14,
     "metadata": {},
     "output_type": "execute_result"
    }
   ],
   "source": [
    "# En este caso la estrategía consiste en conservar los últimos tokens enviados\n",
    "trim_messages_langchain(\n",
    "    model=\"gpt-4o\",\n",
    "    strategy=\"last\",\n",
    "    system_prompt=\"Eres un experto en libros de fantasía y ficción\",\n",
    "    user_prompt=\"Hola, ¿me puedes recomendar un libro poco conocido?\"\n",
    ")"
   ]
  },
  {
   "cell_type": "markdown",
   "id": "ce01af07",
   "metadata": {},
   "source": [
    "⚠️ **TAREA:** Revisar sobre métodos de control de tokens que resuman el historial."
   ]
  },
  {
   "cell_type": "markdown",
   "id": "11bec63f",
   "metadata": {},
   "source": [
    "### **Uso de Templates**"
   ]
  },
  {
   "cell_type": "markdown",
   "id": "628756e4",
   "metadata": {},
   "source": [
    "Siguiendo con las herramientas que nos suministra **langchain** para configurar mejor nuestros agentes, tenemos la opción de usar **templates**, que nos permiten definir una plantilla dinámica que podremos usar para personalizar el comportamiento del agente."
   ]
  },
  {
   "cell_type": "markdown",
   "id": "00d84b80",
   "metadata": {},
   "source": [
    "Con el uso de templates, podemos hacer que el código sea reutilizable y mantenible, aparte de eliminar redundancias."
   ]
  },
  {
   "cell_type": "code",
   "execution_count": 6,
   "id": "3e0e2892",
   "metadata": {},
   "outputs": [
    {
     "data": {
      "text/plain": [
       "'\"Hola, mundo!\" en francés se traduce como \"Bonjour, le monde !\"'"
      ]
     },
     "execution_count": 6,
     "metadata": {},
     "output_type": "execute_result"
    }
   ],
   "source": [
    "# Ejemplo de uso\n",
    "prompt_template('Hola, mundo!', 'frances')"
   ]
  },
  {
   "cell_type": "markdown",
   "id": "8bdc2576",
   "metadata": {},
   "source": [
    "Existen templates especificos para interacciones de chat, en los que se puede simular una conversacion, que serviran para definir el contexto y la interaccion con el modelo."
   ]
  },
  {
   "cell_type": "code",
   "execution_count": 20,
   "id": "9fb376fa",
   "metadata": {},
   "outputs": [
    {
     "data": {
      "text/plain": [
       "'Many years later, as he faced the firing squad, Colonel Aureliano Buendía was to remember that distant afternoon when his father took him to discover ice. Macondo was then a village of twenty mud and reed houses built on the bank of a river with clear waters that ran along a bed of polished stones, white and enormous like prehistoric eggs.'"
      ]
     },
     "execution_count": 20,
     "metadata": {},
     "output_type": "execute_result"
    }
   ],
   "source": [
    "chat_prompt_template(\n",
    "    language='inglés',\n",
    "    prompt='''\n",
    "        Muchos años después, frente al pelotón de fusilamiento, \n",
    "        el coronel Aureliano Buendía había de recordar aquella \n",
    "        tarde remota en que su padre lo llevó a conocer el hielo. \n",
    "        Macondo era entonces una aldea de veinte casas de barro y\n",
    "        cañabrava construidas a la orilla de un río de aguas diáfanas\n",
    "        que se precipitaban por un lecho de piedras pulidas, \n",
    "        blancas y enormes como huevos prehistóricos'''\n",
    ")"
   ]
  },
  {
   "cell_type": "markdown",
   "id": "ebc8bd83",
   "metadata": {},
   "source": [
    "Hay varios tipos de templates que podemos usar para robustecer a nuestros agentes. Uno de ellos es el few shot prompting, que permite al agente aprender de ejemplos anteriores."
   ]
  },
  {
   "cell_type": "code",
   "execution_count": 8,
   "id": "6346141d",
   "metadata": {},
   "outputs": [
    {
     "name": "stdout",
     "output_type": "stream",
     "text": [
      "Cuánto es 2 😎 9 -> 18\n"
     ]
    }
   ],
   "source": [
    "prompt = 'Cuánto es 2 😎 9'\n",
    "\n",
    "result = few_shot_prompt(prompt)\n",
    "print(f'{prompt} -> {result}')"
   ]
  },
  {
   "cell_type": "markdown",
   "id": "38866571",
   "metadata": {},
   "source": [
    "### **Historial de Chat**"
   ]
  },
  {
   "cell_type": "markdown",
   "id": "c50add74",
   "metadata": {},
   "source": [
    "Uno de los aspectos más importantes a la hora de configurar un LLM es la capacidad que este tenga de entender el contexto de la conversación. Para ello, es importante mantener un historial que le permita recordar las distintas interacciones con el usuario. Aquí vuelve a tomar peso el uso de roles."
   ]
  },
  {
   "cell_type": "code",
   "execution_count": 8,
   "id": "ba9a356c",
   "metadata": {},
   "outputs": [
    {
     "name": "stdout",
     "output_type": "stream",
     "text": [
      "¡Hola! ¿En qué puedo ayudarte hoy con respecto a la literatura?\n",
      "--------------------\n",
      "Parece que tu mensaje está vacío. Si tienes alguna pregunta o tema sobre literatura que te gustaría discutir, no dudes en decírmelo. Estoy aquí para ayudarte.\n",
      "--------------------\n",
      "¡Hola, Juan! Encantado de conocerte. ¿Hay algún tema literario o libro en particular sobre el que te gustaría hablar?\n",
      "--------------------\n",
      "Me dijiste que tu nombre es Juan. ¿En qué puedo ayudarte hoy?\n",
      "--------------------\n",
      "¡De nada, Juan! Si tienes más preguntas o necesitas ayuda con algo relacionado con la literatura, no dudes en decírmelo. Estoy aquí para ayudarte.\n",
      "--------------------\n"
     ]
    }
   ],
   "source": [
    "message_history()"
   ]
  },
  {
   "cell_type": "markdown",
   "id": "ff4b37f1",
   "metadata": {},
   "source": [
    "### **Streaming**"
   ]
  },
  {
   "cell_type": "markdown",
   "id": "a454acc7",
   "metadata": {},
   "source": [
    "Tambien tenemos una funcionalidad interesante que nos permite ver como se va generando la respuesta de nuestro prompt en tiempo real."
   ]
  },
  {
   "cell_type": "markdown",
   "id": "c53390a7",
   "metadata": {},
   "source": [
    "Este tipo de invocación funciona de manera asincrona."
   ]
  },
  {
   "cell_type": "code",
   "execution_count": 18,
   "id": "8819a67c",
   "metadata": {},
   "outputs": [
    {
     "name": "stdout",
     "output_type": "stream",
     "text": [
      "¡Hola! ¿En qué puedo ayudarte hoy?"
     ]
    }
   ],
   "source": [
    "await streaming_chat('Hola')"
   ]
  },
  {
   "cell_type": "markdown",
   "id": "284b18dc",
   "metadata": {},
   "source": [
    "### **Uso de Cadenas**"
   ]
  },
  {
   "cell_type": "markdown",
   "id": "11bb130b",
   "metadata": {},
   "source": [
    "Ahora que conocemos varios elementos que nos permiten interactuar con nuestros agentes podemos empezar a combinarlos para crear lógicas más complejos. Para ello, se vuelve muy importante el uso de **cadenas.**"
   ]
  },
  {
   "cell_type": "markdown",
   "id": "ff6a1d10",
   "metadata": {},
   "source": [
    "Las cadenas nos permiten conectar diferentes elementos de langchain para que se ejecuten en conjunto siguiendo un orden especifico."
   ]
  },
  {
   "cell_type": "code",
   "execution_count": null,
   "id": "90894e11",
   "metadata": {},
   "outputs": [
    {
     "name": "stdout",
     "output_type": "stream",
     "text": [
      "The Wheel of Time turns, and ages come and pass, leaving memories that become legend. Legend fades to myth, and even myth is long forgotten before the age that gave it birth comes again.\n"
     ]
    }
   ],
   "source": [
    "language = 'English'\n",
    "prompt = '''\n",
    "    La Rueda del tiempo gira y las eras llegan y pasan y dejan tras de sí\n",
    "    recuerdos que se convierten en leyenda. La leyenda se difumina, deviene \n",
    "    mito, e incluso el mito se ha olvidado mucho antes de que la era que lo \n",
    "    vio nacer retorne de nuevo\n",
    "'''\n",
    "\n",
    "print(st_out_parser(prompt, language))"
   ]
  },
  {
   "cell_type": "markdown",
   "id": "d9ac9bbb",
   "metadata": {},
   "source": [
    "Dentro del uso de cadenas, tenemos la opción de usar bloques personalizados para definir el comportamiento esperado de nuestro agente."
   ]
  },
  {
   "cell_type": "code",
   "execution_count": 8,
   "id": "77dc3f80",
   "metadata": {},
   "outputs": [
    {
     "data": {
      "text/plain": [
       "{'Response': 'La serie \"La Rueda del Tiempo\" (\"The Wheel of Time\") consta de 14 libros principales, escritos por Robert Jordan, con los últimos tres completados por Brandon Sanderson tras el fallecimiento de Jordan. Además, hay una precuela titulada \"Nueva Primavera\" (\"New Spring\"). En total, son 15 libros si se cuenta la precuela.'}"
      ]
     },
     "execution_count": 8,
     "metadata": {},
     "output_type": "execute_result"
    }
   ],
   "source": [
    "runnable_lambda('¿Cuántos libros tiene la rueda del tiempo?')"
   ]
  },
  {
   "cell_type": "markdown",
   "id": "b466b953",
   "metadata": {},
   "source": [
    "Y lo más importante, podemos definir la manera en que queremos obtener la respuesta de nuestro agente, esto es muy importante cuando queramos configurar la conexión entre distintos servicios."
   ]
  },
  {
   "cell_type": "code",
   "execution_count": 13,
   "id": "dccdd041",
   "metadata": {},
   "outputs": [
    {
     "data": {
      "text/plain": [
       "{'definición': 'El universo es la totalidad del espacio, el tiempo, la materia y la energía. Incluye todas las galaxias, estrellas, planetas y cualquier otra forma de materia y energía, así como las leyes físicas que los gobiernan.',\n",
       " 'componentes': ['Galaxias',\n",
       "  'Estrellas',\n",
       "  'Planetas',\n",
       "  'Materia oscura',\n",
       "  'Energía oscura',\n",
       "  'Nebulosas',\n",
       "  'Agujeros negros'],\n",
       " 'origen': 'El universo se originó hace aproximadamente 13.8 mil millones de años con el evento conocido como el Big Bang, una explosión que marcó el inicio de su expansión.',\n",
       " 'estructura': 'El universo observable tiene una estructura a gran escala que incluye cúmulos de galaxias, supercúmulos y filamentos, separados por grandes vacíos.',\n",
       " 'expansión': 'El universo está en constante expansión, lo que significa que las galaxias se alejan unas de otras con el tiempo. Esta expansión se acelera debido a la energía oscura.'}"
      ]
     },
     "execution_count": 13,
     "metadata": {},
     "output_type": "execute_result"
    }
   ],
   "source": [
    "json_parser('Qué es el universo?')"
   ]
  }
 ],
 "metadata": {
  "kernelspec": {
   "display_name": "venv",
   "language": "python",
   "name": "python3"
  },
  "language_info": {
   "codemirror_mode": {
    "name": "ipython",
    "version": 3
   },
   "file_extension": ".py",
   "mimetype": "text/x-python",
   "name": "python",
   "nbconvert_exporter": "python",
   "pygments_lexer": "ipython3",
   "version": "3.12.2"
  },
  "vincent": {
   "sessionId": "87b00e233e8abe7479fa5778_2025-07-10T02-46-47-946Z"
  }
 },
 "nbformat": 4,
 "nbformat_minor": 5
}

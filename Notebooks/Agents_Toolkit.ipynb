{
 "cells": [
  {
   "cell_type": "markdown",
   "id": "03d3d0e7",
   "metadata": {
    "cellUniqueIdByVincent": "cf06f"
   },
   "source": [
    "# **Agents Toolkit**"
   ]
  },
  {
   "cell_type": "markdown",
   "id": "87613db4",
   "metadata": {
    "cellUniqueIdByVincent": "946b5"
   },
   "source": [
    "## **Librerías**"
   ]
  },
  {
   "cell_type": "code",
   "execution_count": 1,
   "metadata": {
    "cellUniqueIdByVincent": "6eabf"
   },
   "outputs": [],
   "source": [
    "import sys\n",
    "sys.path.append(\"../\")"
   ]
  },
  {
   "cell_type": "code",
   "execution_count": 2,
   "metadata": {
    "cellUniqueIdByVincent": "e8d10"
   },
   "outputs": [],
   "source": [
    "from scripts.basic_gen_text import basic_gen_text\n",
    "from scripts.basic_openai_text import basic_openai\n",
    "from scripts.basic_langchain_text import basic_langchain_text"
   ]
  },
  {
   "cell_type": "code",
   "execution_count": 3,
   "id": "e47eda0c",
   "metadata": {},
   "outputs": [],
   "source": [
    "from scripts.chat_roles import chat_roles\n",
    "from scripts.chat_roles_langchain import chat_roles_langchain"
   ]
  },
  {
   "cell_type": "code",
   "execution_count": 2,
   "id": "bd5d6016",
   "metadata": {},
   "outputs": [],
   "source": [
    "from scripts.trim_messages import trim_messages_langchain\n",
    "from scripts.template_prompts import template_prompt"
   ]
  },
  {
   "cell_type": "code",
   "execution_count": 3,
   "metadata": {
    "cellUniqueIdByVincent": "0f26d"
   },
   "outputs": [],
   "source": [
    "from warnings import filterwarnings\n",
    "filterwarnings(\"ignore\")"
   ]
  },
  {
   "cell_type": "markdown",
   "id": "827c9c2c",
   "metadata": {
    "cellUniqueIdByVincent": "978e8"
   },
   "source": [
    "## **Agentes AI**"
   ]
  },
  {
   "cell_type": "markdown",
   "id": "ab3ac3ff",
   "metadata": {
    "cellUniqueIdByVincent": "27d53"
   },
   "source": [
    "Un agente AI es una entidad que mediante el uso de un **modelo llm** como base, puede razonar, tomar decisiones e interactuar con su entorno para cumplir una objetivo especifico."
   ]
  },
  {
   "cell_type": "markdown",
   "id": "d218461c",
   "metadata": {
    "cellUniqueIdByVincent": "605fc"
   },
   "source": [
    "Para construir un agente AI basado en LLMs debemos entender como llamarlos y como utilizarlos de una manera óptima y eficiente dependiendo de la necesidad que tengamos."
   ]
  },
  {
   "cell_type": "markdown",
   "id": "09b5a8c3",
   "metadata": {
    "cellUniqueIdByVincent": "64d3d"
   },
   "source": [
    "### **Generar texto sencillo**"
   ]
  },
  {
   "cell_type": "markdown",
   "id": "af51f2fc",
   "metadata": {
    "cellUniqueIdByVincent": "71772"
   },
   "source": [
    "Podemos llamar modelos gratuitos desde plataformas como **HuggingFace**, sin embargo, la respuesta del modelo no es tan prometedora."
   ]
  },
  {
   "cell_type": "code",
   "execution_count": 6,
   "metadata": {
    "cellUniqueIdByVincent": "6db72"
   },
   "outputs": [
    {
     "name": "stderr",
     "output_type": "stream",
     "text": [
      "Device set to use cpu\n"
     ]
    },
    {
     "data": {
      "text/plain": [
       "'colombia'"
      ]
     },
     "execution_count": 6,
     "metadata": {},
     "output_type": "execute_result"
    }
   ],
   "source": [
    "# Call a model from hugginface model id\n",
    "basic_gen_text(\n",
    "    model_id=\"google/flan-t5-base\",\n",
    "    task=\"text2text-generation\",\n",
    "    prompt=\"Cuál es la capital de Colombia?\",\n",
    "    max_tokens=50\n",
    ")"
   ]
  },
  {
   "cell_type": "markdown",
   "metadata": {
    "cellUniqueIdByVincent": "b2684"
   },
   "source": [
    "Si queremos utilizar algo más robusto como los modelos actuales de openai, debemos crear una cuenta con ellos y cargar algo de saldo para poder utilizar su API, al hacer esto obtenemos respuestas mucho más interesantes."
   ]
  },
  {
   "cell_type": "code",
   "execution_count": 7,
   "metadata": {
    "cellUniqueIdByVincent": "61e2b"
   },
   "outputs": [
    {
     "data": {
      "text/plain": [
       "'La capital de Colombia es Bogotá.'"
      ]
     },
     "execution_count": 7,
     "metadata": {},
     "output_type": "execute_result"
    }
   ],
   "source": [
    "basic_openai(\n",
    "    model=\"gpt-3.5-turbo\",\n",
    "    prompt=\"Cuál es la capital de Colombia?\",\n",
    "    max_tokens=50\n",
    ")"
   ]
  },
  {
   "cell_type": "markdown",
   "id": "3b21052b",
   "metadata": {},
   "source": [
    "Incluso, con el uso de estos modelos podemos ir mucho más lejos."
   ]
  },
  {
   "cell_type": "code",
   "execution_count": 8,
   "id": "f4fb23bb",
   "metadata": {},
   "outputs": [
    {
     "data": {
      "text/plain": [
       "'El universo es todo lo que existe, incluyendo la materia, la energía, el espacio y el tiempo. Se puede definir como la totalidad del espacio y tiempo, y de todas las formas de materia y energía que en él existen. El universo abarca todos los sistemas estelares, planetas, galaxias, y la materia oscura y la energía oscura que se cree que componen la mayor parte de la masa y energía del universo.'"
      ]
     },
     "execution_count": 8,
     "metadata": {},
     "output_type": "execute_result"
    }
   ],
   "source": [
    "basic_openai(\n",
    "    model=\"gpt-3.5-turbo\",\n",
    "    prompt=\"Qué es el universo?\",\n",
    "    max_tokens=200\n",
    ")"
   ]
  },
  {
   "cell_type": "markdown",
   "id": "89ba95ce",
   "metadata": {},
   "source": [
    "De igual forma, podemos realizar la conexión al modelo directamente desde **langchain**, una herramienta que nos permite interactuar con los **llms** de manera más sencilla."
   ]
  },
  {
   "cell_type": "code",
   "execution_count": 6,
   "id": "319f4147",
   "metadata": {},
   "outputs": [
    {
     "data": {
      "text/plain": [
       "'El universo es la totalidad de espacio, tiempo, materia y energía que existe. Incluye todo lo que conocemos, desde las galaxias, estrellas, planetas, hasta la materia y energía oscuras, y todas las leyes y constantes físicas que las gobiernan. Se considera que el universo comenzó con el Big Bang, un evento explosivo que ocurrió hace aproximadamente 13.8 mil millones de años, donde toda la materia y energía estaban concentradas en un punto extremadamente denso y caliente antes de expandirse. Desde entonces, el universo ha estado en constante expansión.\\n\\nEl universo se compone de varios elementos clave:\\n\\n1. **Galaxias**: Grandes sistemas de estrellas, gas, polvo y materia oscura unidos gravitacionalmente. Nuestra galaxia, la Vía Láctea, es solo una de miles de millones en el universo observable.\\n\\n2. **Estrellas y planetas**: Las estrellas son enormes esferas de plasma que generan energía a través de la fusión nuclear. Los planetas son cuerpos que orbitan estrellas o restos estelares.\\n\\n3. **Materia y energía oscuras**: Constituyen la mayor parte del universo. La materia oscura es una forma de materia que no emite luz ni radiación, por lo que solo se detecta por su efecto gravitacional sobre la materia visible. La energía oscura es una forma de energía misteriosa que está causando la aceleración de la expansión del universo.\\n\\n4. **Leyes físicas**: El universo está regido por leyes físicas, como la gravedad y la mecánica cuántica, que describen cómo interactúan la materia y la energía.\\n\\nEl estudio del universo abarca varias disciplinas científicas, como la cosmología, que se centra en el origen y evolución del universo, y la astronomía, que estudia los objetos celestes y sus fenómenos. Aunque hemos aprendido mucho sobre el universo, todavía hay muchas preguntas sin respuesta, lo que continúa impulsando la investigación científica.'"
      ]
     },
     "execution_count": 6,
     "metadata": {},
     "output_type": "execute_result"
    }
   ],
   "source": [
    "basic_langchain_text(\n",
    "    user_prompt=\"Qué es el universo?\",\n",
    "    model=\"gpt-4o\"\n",
    ")"
   ]
  },
  {
   "cell_type": "markdown",
   "id": "90bda6e0",
   "metadata": {},
   "source": [
    "Con esto ya podemos utilizar un LLM dentro de nuestro flujo pero para integrarlo al agente y sacarle el máximo provecho hay varias configuraciones adicionales que podemos tener en cuenta."
   ]
  },
  {
   "cell_type": "markdown",
   "id": "6790e963",
   "metadata": {},
   "source": [
    "### **La definición de los roles**"
   ]
  },
  {
   "cell_type": "markdown",
   "id": "920ed45b",
   "metadata": {},
   "source": [
    "Cuando pensamos en la interacción que tendremos con nuestro agente, la vía más común es a través de un chat. Este mecanismo nos permite mantener un flujo de conversación y dar retroalimentación activa sobre el desempeño que esta teniendo el agente."
   ]
  },
  {
   "cell_type": "markdown",
   "id": "5bd21310",
   "metadata": {},
   "source": [
    "De igual forma, con este tipo de interacción podemos aprovechar para agregar algunas configuraciones adicionales para darle ciertas instrucciones al modelo y aportarle contexto sobre lo que se espera de el."
   ]
  },
  {
   "cell_type": "markdown",
   "id": "41c12bb5",
   "metadata": {},
   "source": [
    "En terminos generales hay 3 tipos de roles en este tipo de interacción:\n",
    "- **system:** Es el rol que define el contexto y las reglas del sistema.\n",
    "- **user:** Es el rol que define el usuario y sus acciones (Simulamos lo que podría decir el usuario).\n",
    "- **assistant:** Es el rol que define el asistente y sus acciones. (Simulamos lo que podría decir el asistente)."
   ]
  },
  {
   "cell_type": "code",
   "execution_count": 5,
   "id": "52de988d",
   "metadata": {},
   "outputs": [
    {
     "data": {
      "text/plain": [
       "'¡Claro! Te recomiendo \"El Bibliomante\" de Jim C. Hines. Este es el primer libro de la serie \"Magic Ex Libris\". La historia se centra en Isaac Vainio, un bibliotecario que tiene la habilidad de usar la magia de los libros para traer objetos a la realidad. La serie es una fantástica combinación de magia, aventuras y referencias literarias que seguramente disfrutarás si te gustan los libros de fantasía y también la literatura en general. Aunque no es tan conocida como algunas otras series, tiene una base de fans fiel y vale la pena darle una oportunidad.'"
      ]
     },
     "execution_count": 5,
     "metadata": {},
     "output_type": "execute_result"
    }
   ],
   "source": [
    "chat_roles(\n",
    "    model = \"gpt-4o\",\n",
    "    system_prompt = \"Eres un experto en libros de fantasía y ficción.\",\n",
    "    user_prompt = \"Hola, ¿me puedes recomendar un libro poco conocido?\"\n",
    ")"
   ]
  },
  {
   "cell_type": "markdown",
   "id": "ab03a4a6",
   "metadata": {},
   "source": [
    "Esta asignación de rol tambien puede usarse con **langchain**."
   ]
  },
  {
   "cell_type": "code",
   "execution_count": null,
   "id": "0ac5e6e2",
   "metadata": {},
   "outputs": [
    {
     "data": {
      "text/plain": [
       "'¡Por supuesto! Te recomiendo \"La voz de las espadas\" de Joe Abercrombie. Aunque Abercrombie es un autor reconocido dentro del género de la fantasía, esta novela en particular no siempre está en el radar de todos. Es el primer libro de su trilogía La Primera Ley y ofrece una visión fresca y más realista del mundo de la fantasía. Sus personajes son complejos y la narrativa mezcla acción, intriga política y un toque de humor oscuro. Si te gustan las historias con personajes moralmente ambiguos y un enfoque en la interacción humana, este libro te podría interesar.'"
      ]
     },
     "execution_count": 7,
     "metadata": {},
     "output_type": "execute_result"
    }
   ],
   "source": [
    "chat_roles_langchain(\n",
    "    model=\"gpt-4o\",\n",
    "    system_prompt=\"Eres un experto en libros de fantasía y ficción.\",\n",
    "    user_prompt=\"Hola, ¿me puedes recomendar un libro poco conocido?\"\n",
    ")"
   ]
  },
  {
   "cell_type": "markdown",
   "id": "de86af44",
   "metadata": {},
   "source": [
    "### **Controlando el número de tokens**"
   ]
  },
  {
   "cell_type": "markdown",
   "id": "0a527951",
   "metadata": {},
   "source": [
    "De igual forma, es importante tener un control sobre el tamaño de los mensajes que estamos enviando a los modelos, por temas de costo y rendimientos. Existen varias estrategías para controlar esto."
   ]
  },
  {
   "cell_type": "code",
   "execution_count": null,
   "id": "112c91bd",
   "metadata": {},
   "outputs": [
    {
     "data": {
      "text/plain": [
       "'¡Claro! Te recomiendo \"La Canción Secreta del Mundo\" de José Antonio Cotrina. Aunque es más conocido en algunos círculos de literatura fantástica en español, no ha alcanzado la popularidad masiva de otras obras del género. La historia sigue a Ariadna, una joven con un pasado misterioso, que se sumerge en un mundo lleno de magia oscura, secretos ancestrales y criaturas impresionantes. Cotrina es conocido por crear atmósferas sugestivas y tramas complejas que capturan al lector. Si buscas algo diferente y oscuro, este libro podría ser una excelente elección.'"
      ]
     },
     "execution_count": 4,
     "metadata": {},
     "output_type": "execute_result"
    }
   ],
   "source": [
    "# En este caso la estrategía consiste en conservar los últimos tokens enviados\n",
    "trim_messages_langchain(\n",
    "    model=\"gpt-4o\",\n",
    "    strategy=\"last\",\n",
    "    system_prompt=\"Eres un experto en libros de fantasía y ficción\",\n",
    "    user_prompt=\"Hola, ¿me puedes recomendar un libro poco conocido?\"\n",
    ")"
   ]
  },
  {
   "cell_type": "markdown",
   "id": "ce01af07",
   "metadata": {},
   "source": [
    "⚠️ **TAREA:** Revisar sobre métodos de control de tokens que resuman el historial."
   ]
  },
  {
   "cell_type": "markdown",
   "id": "11bec63f",
   "metadata": {},
   "source": [
    "### **Uso de Templates**"
   ]
  },
  {
   "cell_type": "markdown",
   "id": "628756e4",
   "metadata": {},
   "source": [
    "Siguiendo con las herramientas que nos suministra **langchain** para configurar mejor nuestros agentes, tenemos la opción de usar **templates**, que nos permiten definir una plantilla dinámica que podremos usar para personalizar el comportamiento del agente."
   ]
  },
  {
   "cell_type": "markdown",
   "id": "00d84b80",
   "metadata": {},
   "source": [
    "Con el uso de templates, podemos hacer que el código sea más reutilizable y mantenible. Aparte de eliminar redundancias."
   ]
  },
  {
   "cell_type": "code",
   "execution_count": null,
   "id": "3e0e2892",
   "metadata": {},
   "outputs": [
    {
     "data": {
      "text/plain": [
       "'\"Hola, mundo!\" en francés se traduce como \"Bonjour, le monde !\"'"
      ]
     },
     "execution_count": 8,
     "metadata": {},
     "output_type": "execute_result"
    }
   ],
   "source": [
    "# Ejemplo de uso\n",
    "template_prompt('Hola, mundo!', 'frances')"
   ]
  },
  {
   "cell_type": "code",
   "execution_count": null,
   "id": "9fb376fa",
   "metadata": {},
   "outputs": [],
   "source": []
  },
  {
   "cell_type": "code",
   "execution_count": null,
   "id": "ebc8bd83",
   "metadata": {},
   "outputs": [],
   "source": []
  }
 ],
 "metadata": {
  "kernelspec": {
   "display_name": "venv",
   "language": "python",
   "name": "python3"
  },
  "language_info": {
   "codemirror_mode": {
    "name": "ipython",
    "version": 3
   },
   "file_extension": ".py",
   "mimetype": "text/x-python",
   "name": "python",
   "nbconvert_exporter": "python",
   "pygments_lexer": "ipython3",
   "version": "3.12.2"
  },
  "vincent": {
   "sessionId": "87b00e233e8abe7479fa5778_2025-07-10T02-46-47-946Z"
  }
 },
 "nbformat": 4,
 "nbformat_minor": 5
}
